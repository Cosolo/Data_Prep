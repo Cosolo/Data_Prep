{
 "cells": [
  {
   "cell_type": "code",
   "execution_count": 1,
   "metadata": {
    "collapsed": true
   },
   "outputs": [],
   "source": [
    "import numpy as np"
   ]
  },
  {
   "cell_type": "code",
   "execution_count": 2,
   "metadata": {
    "collapsed": true
   },
   "outputs": [],
   "source": [
    "A=np.random.rand?"
   ]
  },
  {
   "cell_type": "code",
   "execution_count": 4,
   "metadata": {
    "collapsed": true
   },
   "outputs": [],
   "source": [
    "A=np.random.rand(5,4)\n",
    "B=np.random.rand(5,4)"
   ]
  },
  {
   "cell_type": "code",
   "execution_count": 10,
   "metadata": {},
   "outputs": [
    {
     "data": {
      "text/plain": [
       "array([[ 1.40587551,  1.45974093,  0.92427431,  1.41819259],\n",
       "       [ 1.42754236,  1.38811309,  1.28818827,  1.04098699],\n",
       "       [ 1.04528197,  1.11691143,  1.04456565,  0.76874375],\n",
       "       [ 1.55008634,  2.0848985 ,  1.20148591,  1.50578889]])"
      ]
     },
     "execution_count": 10,
     "metadata": {},
     "output_type": "execute_result"
    }
   ],
   "source": [
    "A.T @ B"
   ]
  },
  {
   "cell_type": "code",
   "execution_count": 11,
   "metadata": {},
   "outputs": [
    {
     "data": {
      "text/plain": [
       "array([[ 1.40587551,  1.42754236,  1.04528197,  1.55008634],\n",
       "       [ 1.45974093,  1.38811309,  1.11691143,  2.0848985 ],\n",
       "       [ 0.92427431,  1.28818827,  1.04456565,  1.20148591],\n",
       "       [ 1.41819259,  1.04098699,  0.76874375,  1.50578889]])"
      ]
     },
     "execution_count": 11,
     "metadata": {},
     "output_type": "execute_result"
    }
   ],
   "source": [
    "B.T @ A"
   ]
  },
  {
   "cell_type": "code",
   "execution_count": 12,
   "metadata": {
    "collapsed": true
   },
   "outputs": [],
   "source": [
    "x=np.random.rand(3)\n",
    "y=np.random.rand(3)"
   ]
  },
  {
   "cell_type": "code",
   "execution_count": 13,
   "metadata": {},
   "outputs": [
    {
     "data": {
      "text/plain": [
       "0.462546452530333"
      ]
     },
     "execution_count": 13,
     "metadata": {},
     "output_type": "execute_result"
    }
   ],
   "source": [
    "np.dot(x,y)"
   ]
  },
  {
   "cell_type": "code",
   "execution_count": 14,
   "metadata": {},
   "outputs": [
    {
     "data": {
      "text/plain": [
       "0.462546452530333"
      ]
     },
     "execution_count": 14,
     "metadata": {},
     "output_type": "execute_result"
    }
   ],
   "source": [
    "np.dot(y,x)"
   ]
  },
  {
   "cell_type": "code",
   "execution_count": 15,
   "metadata": {},
   "outputs": [
    {
     "data": {
      "text/plain": [
       "0.7103883845971799"
      ]
     },
     "execution_count": 15,
     "metadata": {},
     "output_type": "execute_result"
    }
   ],
   "source": [
    "np.dot(x.T,x)"
   ]
  },
  {
   "cell_type": "code",
   "execution_count": 17,
   "metadata": {},
   "outputs": [
    {
     "data": {
      "text/plain": [
       "0.84284540966726507"
      ]
     },
     "execution_count": 17,
     "metadata": {},
     "output_type": "execute_result"
    }
   ],
   "source": [
    "np.sqrt(np.dot(x,x.T))"
   ]
  },
  {
   "cell_type": "code",
   "execution_count": 18,
   "metadata": {
    "collapsed": true
   },
   "outputs": [],
   "source": [
    "np.invert?"
   ]
  },
  {
   "cell_type": "code",
   "execution_count": 22,
   "metadata": {
    "collapsed": true
   },
   "outputs": [],
   "source": [
    "A=np.random.rand(3,3)"
   ]
  },
  {
   "cell_type": "code",
   "execution_count": 23,
   "metadata": {},
   "outputs": [
    {
     "data": {
      "text/plain": [
       "array([[-3.99803389,  6.24104278, -1.53847957],\n",
       "       [ 4.92925187, -3.26439818, -2.30621045],\n",
       "       [ 0.41452586, -1.63945683,  2.30376062]])"
      ]
     },
     "execution_count": 23,
     "metadata": {},
     "output_type": "execute_result"
    }
   ],
   "source": [
    "np.linalg.inv(A)"
   ]
  },
  {
   "cell_type": "code",
   "execution_count": 24,
   "metadata": {},
   "outputs": [
    {
     "data": {
      "text/plain": [
       "array([[  1.00000000e+00,   3.18040818e-16,   3.47260328e-16],\n",
       "       [  1.39658272e-16,   1.00000000e+00,   3.00919946e-17],\n",
       "       [ -2.99458647e-17,   4.19642147e-18,   1.00000000e+00]])"
      ]
     },
     "execution_count": 24,
     "metadata": {},
     "output_type": "execute_result"
    }
   ],
   "source": [
    "np.linalg.inv(A) @ A"
   ]
  },
  {
   "cell_type": "code",
   "execution_count": 25,
   "metadata": {},
   "outputs": [
    {
     "data": {
      "text/plain": [
       "array([[ 1.,  0.,  0.],\n",
       "       [ 0.,  1.,  0.],\n",
       "       [ 0.,  0.,  1.]])"
      ]
     },
     "execution_count": 25,
     "metadata": {},
     "output_type": "execute_result"
    }
   ],
   "source": [
    "np.eye(3)"
   ]
  },
  {
   "cell_type": "code",
   "execution_count": 26,
   "metadata": {},
   "outputs": [
    {
     "data": {
      "text/plain": [
       "True"
      ]
     },
     "execution_count": 26,
     "metadata": {},
     "output_type": "execute_result"
    }
   ],
   "source": [
    "np.allclose(np.linalg.inv(A) @ A,np.eye(3))"
   ]
  },
  {
   "cell_type": "code",
   "execution_count": 27,
   "metadata": {},
   "outputs": [
    {
     "data": {
      "text/plain": [
       "array([[False, False, False],\n",
       "       [False, False, False],\n",
       "       [False, False, False]], dtype=bool)"
      ]
     },
     "execution_count": 27,
     "metadata": {},
     "output_type": "execute_result"
    }
   ],
   "source": [
    "(np.linalg.inv(A) @ A) == np.eye(3)"
   ]
  },
  {
   "cell_type": "code",
   "execution_count": 29,
   "metadata": {
    "collapsed": true
   },
   "outputs": [],
   "source": [
    "import pandas as pd"
   ]
  },
  {
   "cell_type": "code",
   "execution_count": 36,
   "metadata": {},
   "outputs": [],
   "source": [
    "msft=pd.read_csv('MSFT.csv',dtype={'Volume':np.float64})"
   ]
  },
  {
   "cell_type": "code",
   "execution_count": 37,
   "metadata": {},
   "outputs": [
    {
     "data": {
      "text/html": [
       "<div>\n",
       "<style>\n",
       "    .dataframe thead tr:only-child th {\n",
       "        text-align: right;\n",
       "    }\n",
       "\n",
       "    .dataframe thead th {\n",
       "        text-align: left;\n",
       "    }\n",
       "\n",
       "    .dataframe tbody tr th {\n",
       "        vertical-align: top;\n",
       "    }\n",
       "</style>\n",
       "<table border=\"1\" class=\"dataframe\">\n",
       "  <thead>\n",
       "    <tr style=\"text-align: right;\">\n",
       "      <th></th>\n",
       "      <th>Date</th>\n",
       "      <th>Open</th>\n",
       "      <th>High</th>\n",
       "      <th>Low</th>\n",
       "      <th>Close</th>\n",
       "      <th>Adj Close</th>\n",
       "      <th>Volume</th>\n",
       "    </tr>\n",
       "  </thead>\n",
       "  <tbody>\n",
       "    <tr>\n",
       "      <th>0</th>\n",
       "      <td>2018-12-31</td>\n",
       "      <td>101.290001</td>\n",
       "      <td>102.400002</td>\n",
       "      <td>100.440002</td>\n",
       "      <td>101.570000</td>\n",
       "      <td>101.138069</td>\n",
       "      <td>33173800.0</td>\n",
       "    </tr>\n",
       "    <tr>\n",
       "      <th>1</th>\n",
       "      <td>2019-01-02</td>\n",
       "      <td>99.550003</td>\n",
       "      <td>101.750000</td>\n",
       "      <td>98.940002</td>\n",
       "      <td>101.120003</td>\n",
       "      <td>100.689987</td>\n",
       "      <td>35329300.0</td>\n",
       "    </tr>\n",
       "  </tbody>\n",
       "</table>\n",
       "</div>"
      ],
      "text/plain": [
       "         Date        Open        High         Low       Close   Adj Close  \\\n",
       "0  2018-12-31  101.290001  102.400002  100.440002  101.570000  101.138069   \n",
       "1  2019-01-02   99.550003  101.750000   98.940002  101.120003  100.689987   \n",
       "\n",
       "       Volume  \n",
       "0  33173800.0  \n",
       "1  35329300.0  "
      ]
     },
     "execution_count": 37,
     "metadata": {},
     "output_type": "execute_result"
    }
   ],
   "source": [
    "msft[:2]"
   ]
  },
  {
   "cell_type": "code",
   "execution_count": 38,
   "metadata": {},
   "outputs": [
    {
     "data": {
      "text/html": [
       "<div>\n",
       "<style>\n",
       "    .dataframe thead tr:only-child th {\n",
       "        text-align: right;\n",
       "    }\n",
       "\n",
       "    .dataframe thead th {\n",
       "        text-align: left;\n",
       "    }\n",
       "\n",
       "    .dataframe tbody tr th {\n",
       "        vertical-align: top;\n",
       "    }\n",
       "</style>\n",
       "<table border=\"1\" class=\"dataframe\">\n",
       "  <thead>\n",
       "    <tr style=\"text-align: right;\">\n",
       "      <th></th>\n",
       "      <th>Date</th>\n",
       "      <th>Open</th>\n",
       "      <th>High</th>\n",
       "      <th>Low</th>\n",
       "      <th>Close</th>\n",
       "      <th>Adj Close</th>\n",
       "      <th>Volume</th>\n",
       "    </tr>\n",
       "  </thead>\n",
       "  <tbody>\n",
       "    <tr>\n",
       "      <th>61</th>\n",
       "      <td>2019-03-29</td>\n",
       "      <td>118.07</td>\n",
       "      <td>118.32</td>\n",
       "      <td>116.959999</td>\n",
       "      <td>117.940002</td>\n",
       "      <td>117.940002</td>\n",
       "      <td>25392200.0</td>\n",
       "    </tr>\n",
       "  </tbody>\n",
       "</table>\n",
       "</div>"
      ],
      "text/plain": [
       "          Date    Open    High         Low       Close   Adj Close      Volume\n",
       "61  2019-03-29  118.07  118.32  116.959999  117.940002  117.940002  25392200.0"
      ]
     },
     "execution_count": 38,
     "metadata": {},
     "output_type": "execute_result"
    }
   ],
   "source": [
    "msft[-1:]"
   ]
  },
  {
   "cell_type": "code",
   "execution_count": 39,
   "metadata": {},
   "outputs": [
    {
     "data": {
      "text/plain": [
       "Date          object\n",
       "Open         float64\n",
       "High         float64\n",
       "Low          float64\n",
       "Close        float64\n",
       "Adj Close    float64\n",
       "Volume       float64\n",
       "dtype: object"
      ]
     },
     "execution_count": 39,
     "metadata": {},
     "output_type": "execute_result"
    }
   ],
   "source": [
    "msft.dtypes"
   ]
  },
  {
   "cell_type": "code",
   "execution_count": 43,
   "metadata": {
    "collapsed": true
   },
   "outputs": [],
   "source": [
    "msft2=pd.read_csv('MSFT.csv',index_col=['Date'],parse_dates=True,infer_datetime_format=True)"
   ]
  },
  {
   "cell_type": "code",
   "execution_count": 44,
   "metadata": {},
   "outputs": [
    {
     "data": {
      "text/html": [
       "<div>\n",
       "<style>\n",
       "    .dataframe thead tr:only-child th {\n",
       "        text-align: right;\n",
       "    }\n",
       "\n",
       "    .dataframe thead th {\n",
       "        text-align: left;\n",
       "    }\n",
       "\n",
       "    .dataframe tbody tr th {\n",
       "        vertical-align: top;\n",
       "    }\n",
       "</style>\n",
       "<table border=\"1\" class=\"dataframe\">\n",
       "  <thead>\n",
       "    <tr style=\"text-align: right;\">\n",
       "      <th></th>\n",
       "      <th>Open</th>\n",
       "      <th>High</th>\n",
       "      <th>Low</th>\n",
       "      <th>Close</th>\n",
       "      <th>Adj Close</th>\n",
       "      <th>Volume</th>\n",
       "    </tr>\n",
       "    <tr>\n",
       "      <th>Date</th>\n",
       "      <th></th>\n",
       "      <th></th>\n",
       "      <th></th>\n",
       "      <th></th>\n",
       "      <th></th>\n",
       "      <th></th>\n",
       "    </tr>\n",
       "  </thead>\n",
       "  <tbody>\n",
       "    <tr>\n",
       "      <th>2018-12-31</th>\n",
       "      <td>101.290001</td>\n",
       "      <td>102.400002</td>\n",
       "      <td>100.440002</td>\n",
       "      <td>101.570000</td>\n",
       "      <td>101.138069</td>\n",
       "      <td>33173800</td>\n",
       "    </tr>\n",
       "    <tr>\n",
       "      <th>2019-01-02</th>\n",
       "      <td>99.550003</td>\n",
       "      <td>101.750000</td>\n",
       "      <td>98.940002</td>\n",
       "      <td>101.120003</td>\n",
       "      <td>100.689987</td>\n",
       "      <td>35329300</td>\n",
       "    </tr>\n",
       "    <tr>\n",
       "      <th>2019-01-03</th>\n",
       "      <td>100.099998</td>\n",
       "      <td>100.190002</td>\n",
       "      <td>97.199997</td>\n",
       "      <td>97.400002</td>\n",
       "      <td>96.985802</td>\n",
       "      <td>42579100</td>\n",
       "    </tr>\n",
       "    <tr>\n",
       "      <th>2019-01-04</th>\n",
       "      <td>99.720001</td>\n",
       "      <td>102.510002</td>\n",
       "      <td>98.930000</td>\n",
       "      <td>101.930000</td>\n",
       "      <td>101.496536</td>\n",
       "      <td>44060600</td>\n",
       "    </tr>\n",
       "    <tr>\n",
       "      <th>2019-01-07</th>\n",
       "      <td>101.639999</td>\n",
       "      <td>103.269997</td>\n",
       "      <td>100.980003</td>\n",
       "      <td>102.059998</td>\n",
       "      <td>101.625984</td>\n",
       "      <td>35656100</td>\n",
       "    </tr>\n",
       "  </tbody>\n",
       "</table>\n",
       "</div>"
      ],
      "text/plain": [
       "                  Open        High         Low       Close   Adj Close  \\\n",
       "Date                                                                     \n",
       "2018-12-31  101.290001  102.400002  100.440002  101.570000  101.138069   \n",
       "2019-01-02   99.550003  101.750000   98.940002  101.120003  100.689987   \n",
       "2019-01-03  100.099998  100.190002   97.199997   97.400002   96.985802   \n",
       "2019-01-04   99.720001  102.510002   98.930000  101.930000  101.496536   \n",
       "2019-01-07  101.639999  103.269997  100.980003  102.059998  101.625984   \n",
       "\n",
       "              Volume  \n",
       "Date                  \n",
       "2018-12-31  33173800  \n",
       "2019-01-02  35329300  \n",
       "2019-01-03  42579100  \n",
       "2019-01-04  44060600  \n",
       "2019-01-07  35656100  "
      ]
     },
     "execution_count": 44,
     "metadata": {},
     "output_type": "execute_result"
    }
   ],
   "source": [
    "msft2.head()"
   ]
  },
  {
   "cell_type": "code",
   "execution_count": 60,
   "metadata": {},
   "outputs": [
    {
     "data": {
      "text/html": [
       "<div>\n",
       "<style>\n",
       "    .dataframe thead tr:only-child th {\n",
       "        text-align: right;\n",
       "    }\n",
       "\n",
       "    .dataframe thead th {\n",
       "        text-align: left;\n",
       "    }\n",
       "\n",
       "    .dataframe tbody tr th {\n",
       "        vertical-align: top;\n",
       "    }\n",
       "</style>\n",
       "<table border=\"1\" class=\"dataframe\">\n",
       "  <thead>\n",
       "    <tr style=\"text-align: right;\">\n",
       "      <th></th>\n",
       "      <th>0</th>\n",
       "      <th>1</th>\n",
       "      <th>2</th>\n",
       "      <th>3</th>\n",
       "    </tr>\n",
       "  </thead>\n",
       "  <tbody>\n",
       "    <tr>\n",
       "      <th>0</th>\n",
       "      <td>036AUD001</td>\n",
       "      <td>4.671705</td>\n",
       "      <td>4.685762</td>\n",
       "      <td>4.699819</td>\n",
       "    </tr>\n",
       "    <tr>\n",
       "      <th>1</th>\n",
       "      <td>124CAD001</td>\n",
       "      <td>4.910310</td>\n",
       "      <td>4.925085</td>\n",
       "      <td>4.939860</td>\n",
       "    </tr>\n",
       "    <tr>\n",
       "      <th>2</th>\n",
       "      <td>203CZK001</td>\n",
       "      <td>0.286674</td>\n",
       "      <td>0.287537</td>\n",
       "      <td>0.288400</td>\n",
       "    </tr>\n",
       "    <tr>\n",
       "      <th>3</th>\n",
       "      <td>208DKK001</td>\n",
       "      <td>0.991599</td>\n",
       "      <td>0.994583</td>\n",
       "      <td>0.997567</td>\n",
       "    </tr>\n",
       "    <tr>\n",
       "      <th>4</th>\n",
       "      <td>348HUF100</td>\n",
       "      <td>2.307313</td>\n",
       "      <td>2.314256</td>\n",
       "      <td>2.321199</td>\n",
       "    </tr>\n",
       "    <tr>\n",
       "      <th>5</th>\n",
       "      <td>392JPY100</td>\n",
       "      <td>5.950311</td>\n",
       "      <td>5.968216</td>\n",
       "      <td>5.986121</td>\n",
       "    </tr>\n",
       "    <tr>\n",
       "      <th>6</th>\n",
       "      <td>578NOK001</td>\n",
       "      <td>0.764522</td>\n",
       "      <td>0.766822</td>\n",
       "      <td>0.769122</td>\n",
       "    </tr>\n",
       "    <tr>\n",
       "      <th>7</th>\n",
       "      <td>752SEK001</td>\n",
       "      <td>0.711820</td>\n",
       "      <td>0.713962</td>\n",
       "      <td>0.716104</td>\n",
       "    </tr>\n",
       "    <tr>\n",
       "      <th>8</th>\n",
       "      <td>756CHF001</td>\n",
       "      <td>6.620860</td>\n",
       "      <td>6.640782</td>\n",
       "      <td>6.660704</td>\n",
       "    </tr>\n",
       "    <tr>\n",
       "      <th>9</th>\n",
       "      <td>826GBP001</td>\n",
       "      <td>8.654176</td>\n",
       "      <td>8.680217</td>\n",
       "      <td>8.706258</td>\n",
       "    </tr>\n",
       "    <tr>\n",
       "      <th>10</th>\n",
       "      <td>840USD001</td>\n",
       "      <td>6.590210</td>\n",
       "      <td>6.610040</td>\n",
       "      <td>6.629870</td>\n",
       "    </tr>\n",
       "    <tr>\n",
       "      <th>11</th>\n",
       "      <td>977BAM001</td>\n",
       "      <td>3.784983</td>\n",
       "      <td>3.796372</td>\n",
       "      <td>3.807761</td>\n",
       "    </tr>\n",
       "    <tr>\n",
       "      <th>12</th>\n",
       "      <td>978EUR001</td>\n",
       "      <td>7.402783</td>\n",
       "      <td>7.425058</td>\n",
       "      <td>7.447333</td>\n",
       "    </tr>\n",
       "    <tr>\n",
       "      <th>13</th>\n",
       "      <td>985PLN001</td>\n",
       "      <td>1.721097</td>\n",
       "      <td>1.726276</td>\n",
       "      <td>1.731455</td>\n",
       "    </tr>\n",
       "  </tbody>\n",
       "</table>\n",
       "</div>"
      ],
      "text/plain": [
       "            0         1         2         3\n",
       "0   036AUD001  4.671705  4.685762  4.699819\n",
       "1   124CAD001  4.910310  4.925085  4.939860\n",
       "2   203CZK001  0.286674  0.287537  0.288400\n",
       "3   208DKK001  0.991599  0.994583  0.997567\n",
       "4   348HUF100  2.307313  2.314256  2.321199\n",
       "5   392JPY100  5.950311  5.968216  5.986121\n",
       "6   578NOK001  0.764522  0.766822  0.769122\n",
       "7   752SEK001  0.711820  0.713962  0.716104\n",
       "8   756CHF001  6.620860  6.640782  6.660704\n",
       "9   826GBP001  8.654176  8.680217  8.706258\n",
       "10  840USD001  6.590210  6.610040  6.629870\n",
       "11  977BAM001  3.784983  3.796372  3.807761\n",
       "12  978EUR001  7.402783  7.425058  7.447333\n",
       "13  985PLN001  1.721097  1.726276  1.731455"
      ]
     },
     "execution_count": 60,
     "metadata": {},
     "output_type": "execute_result"
    }
   ],
   "source": [
    "hnb=pd.read_csv('https://www.hnb.hr/tecajn/htecajn.htm',\n",
    "                sep='\\s+',decimal=',', skiprows=[0], header=None); hnb"
   ]
  },
  {
   "cell_type": "code",
   "execution_count": 63,
   "metadata": {},
   "outputs": [],
   "source": [
    "hnb[\"Country\"] = hnb[0].apply(lambda x: x[3:6])"
   ]
  },
  {
   "cell_type": "code",
   "execution_count": 64,
   "metadata": {},
   "outputs": [
    {
     "data": {
      "text/html": [
       "<div>\n",
       "<style>\n",
       "    .dataframe thead tr:only-child th {\n",
       "        text-align: right;\n",
       "    }\n",
       "\n",
       "    .dataframe thead th {\n",
       "        text-align: left;\n",
       "    }\n",
       "\n",
       "    .dataframe tbody tr th {\n",
       "        vertical-align: top;\n",
       "    }\n",
       "</style>\n",
       "<table border=\"1\" class=\"dataframe\">\n",
       "  <thead>\n",
       "    <tr style=\"text-align: right;\">\n",
       "      <th></th>\n",
       "      <th>0</th>\n",
       "      <th>1</th>\n",
       "      <th>2</th>\n",
       "      <th>3</th>\n",
       "      <th>Country</th>\n",
       "    </tr>\n",
       "  </thead>\n",
       "  <tbody>\n",
       "    <tr>\n",
       "      <th>0</th>\n",
       "      <td>036AUD001</td>\n",
       "      <td>4.671705</td>\n",
       "      <td>4.685762</td>\n",
       "      <td>4.699819</td>\n",
       "      <td>AUD</td>\n",
       "    </tr>\n",
       "    <tr>\n",
       "      <th>1</th>\n",
       "      <td>124CAD001</td>\n",
       "      <td>4.910310</td>\n",
       "      <td>4.925085</td>\n",
       "      <td>4.939860</td>\n",
       "      <td>CAD</td>\n",
       "    </tr>\n",
       "    <tr>\n",
       "      <th>2</th>\n",
       "      <td>203CZK001</td>\n",
       "      <td>0.286674</td>\n",
       "      <td>0.287537</td>\n",
       "      <td>0.288400</td>\n",
       "      <td>CZK</td>\n",
       "    </tr>\n",
       "    <tr>\n",
       "      <th>3</th>\n",
       "      <td>208DKK001</td>\n",
       "      <td>0.991599</td>\n",
       "      <td>0.994583</td>\n",
       "      <td>0.997567</td>\n",
       "      <td>DKK</td>\n",
       "    </tr>\n",
       "    <tr>\n",
       "      <th>4</th>\n",
       "      <td>348HUF100</td>\n",
       "      <td>2.307313</td>\n",
       "      <td>2.314256</td>\n",
       "      <td>2.321199</td>\n",
       "      <td>HUF</td>\n",
       "    </tr>\n",
       "  </tbody>\n",
       "</table>\n",
       "</div>"
      ],
      "text/plain": [
       "           0         1         2         3 Country\n",
       "0  036AUD001  4.671705  4.685762  4.699819     AUD\n",
       "1  124CAD001  4.910310  4.925085  4.939860     CAD\n",
       "2  203CZK001  0.286674  0.287537  0.288400     CZK\n",
       "3  208DKK001  0.991599  0.994583  0.997567     DKK\n",
       "4  348HUF100  2.307313  2.314256  2.321199     HUF"
      ]
     },
     "execution_count": 64,
     "metadata": {},
     "output_type": "execute_result"
    }
   ],
   "source": [
    "hnb.head()"
   ]
  },
  {
   "cell_type": "code",
   "execution_count": 67,
   "metadata": {},
   "outputs": [],
   "source": [
    "hnb[\"Unit\"] = hnb[0].apply(lambda x: float(x[-3:]))"
   ]
  },
  {
   "cell_type": "code",
   "execution_count": 68,
   "metadata": {},
   "outputs": [
    {
     "data": {
      "text/html": [
       "<div>\n",
       "<style>\n",
       "    .dataframe thead tr:only-child th {\n",
       "        text-align: right;\n",
       "    }\n",
       "\n",
       "    .dataframe thead th {\n",
       "        text-align: left;\n",
       "    }\n",
       "\n",
       "    .dataframe tbody tr th {\n",
       "        vertical-align: top;\n",
       "    }\n",
       "</style>\n",
       "<table border=\"1\" class=\"dataframe\">\n",
       "  <thead>\n",
       "    <tr style=\"text-align: right;\">\n",
       "      <th></th>\n",
       "      <th>0</th>\n",
       "      <th>1</th>\n",
       "      <th>2</th>\n",
       "      <th>3</th>\n",
       "      <th>Country</th>\n",
       "      <th>Unit</th>\n",
       "    </tr>\n",
       "  </thead>\n",
       "  <tbody>\n",
       "    <tr>\n",
       "      <th>0</th>\n",
       "      <td>036AUD001</td>\n",
       "      <td>4.671705</td>\n",
       "      <td>4.685762</td>\n",
       "      <td>4.699819</td>\n",
       "      <td>AUD</td>\n",
       "      <td>1.0</td>\n",
       "    </tr>\n",
       "    <tr>\n",
       "      <th>1</th>\n",
       "      <td>124CAD001</td>\n",
       "      <td>4.910310</td>\n",
       "      <td>4.925085</td>\n",
       "      <td>4.939860</td>\n",
       "      <td>CAD</td>\n",
       "      <td>1.0</td>\n",
       "    </tr>\n",
       "    <tr>\n",
       "      <th>2</th>\n",
       "      <td>203CZK001</td>\n",
       "      <td>0.286674</td>\n",
       "      <td>0.287537</td>\n",
       "      <td>0.288400</td>\n",
       "      <td>CZK</td>\n",
       "      <td>1.0</td>\n",
       "    </tr>\n",
       "    <tr>\n",
       "      <th>3</th>\n",
       "      <td>208DKK001</td>\n",
       "      <td>0.991599</td>\n",
       "      <td>0.994583</td>\n",
       "      <td>0.997567</td>\n",
       "      <td>DKK</td>\n",
       "      <td>1.0</td>\n",
       "    </tr>\n",
       "    <tr>\n",
       "      <th>4</th>\n",
       "      <td>348HUF100</td>\n",
       "      <td>2.307313</td>\n",
       "      <td>2.314256</td>\n",
       "      <td>2.321199</td>\n",
       "      <td>HUF</td>\n",
       "      <td>100.0</td>\n",
       "    </tr>\n",
       "  </tbody>\n",
       "</table>\n",
       "</div>"
      ],
      "text/plain": [
       "           0         1         2         3 Country   Unit\n",
       "0  036AUD001  4.671705  4.685762  4.699819     AUD    1.0\n",
       "1  124CAD001  4.910310  4.925085  4.939860     CAD    1.0\n",
       "2  203CZK001  0.286674  0.287537  0.288400     CZK    1.0\n",
       "3  208DKK001  0.991599  0.994583  0.997567     DKK    1.0\n",
       "4  348HUF100  2.307313  2.314256  2.321199     HUF  100.0"
      ]
     },
     "execution_count": 68,
     "metadata": {},
     "output_type": "execute_result"
    }
   ],
   "source": [
    "hnb.head()"
   ]
  },
  {
   "cell_type": "code",
   "execution_count": 69,
   "metadata": {},
   "outputs": [
    {
     "data": {
      "text/html": [
       "<div>\n",
       "<style>\n",
       "    .dataframe thead tr:only-child th {\n",
       "        text-align: right;\n",
       "    }\n",
       "\n",
       "    .dataframe thead th {\n",
       "        text-align: left;\n",
       "    }\n",
       "\n",
       "    .dataframe tbody tr th {\n",
       "        vertical-align: top;\n",
       "    }\n",
       "</style>\n",
       "<table border=\"1\" class=\"dataframe\">\n",
       "  <thead>\n",
       "    <tr style=\"text-align: right;\">\n",
       "      <th></th>\n",
       "      <th>1</th>\n",
       "      <th>2</th>\n",
       "      <th>3</th>\n",
       "      <th>Country</th>\n",
       "      <th>Unit</th>\n",
       "    </tr>\n",
       "  </thead>\n",
       "  <tbody>\n",
       "    <tr>\n",
       "      <th>0</th>\n",
       "      <td>4.671705</td>\n",
       "      <td>4.685762</td>\n",
       "      <td>4.699819</td>\n",
       "      <td>AUD</td>\n",
       "      <td>1.0</td>\n",
       "    </tr>\n",
       "    <tr>\n",
       "      <th>1</th>\n",
       "      <td>4.910310</td>\n",
       "      <td>4.925085</td>\n",
       "      <td>4.939860</td>\n",
       "      <td>CAD</td>\n",
       "      <td>1.0</td>\n",
       "    </tr>\n",
       "    <tr>\n",
       "      <th>2</th>\n",
       "      <td>0.286674</td>\n",
       "      <td>0.287537</td>\n",
       "      <td>0.288400</td>\n",
       "      <td>CZK</td>\n",
       "      <td>1.0</td>\n",
       "    </tr>\n",
       "    <tr>\n",
       "      <th>3</th>\n",
       "      <td>0.991599</td>\n",
       "      <td>0.994583</td>\n",
       "      <td>0.997567</td>\n",
       "      <td>DKK</td>\n",
       "      <td>1.0</td>\n",
       "    </tr>\n",
       "    <tr>\n",
       "      <th>4</th>\n",
       "      <td>2.307313</td>\n",
       "      <td>2.314256</td>\n",
       "      <td>2.321199</td>\n",
       "      <td>HUF</td>\n",
       "      <td>100.0</td>\n",
       "    </tr>\n",
       "  </tbody>\n",
       "</table>\n",
       "</div>"
      ],
      "text/plain": [
       "          1         2         3 Country   Unit\n",
       "0  4.671705  4.685762  4.699819     AUD    1.0\n",
       "1  4.910310  4.925085  4.939860     CAD    1.0\n",
       "2  0.286674  0.287537  0.288400     CZK    1.0\n",
       "3  0.991599  0.994583  0.997567     DKK    1.0\n",
       "4  2.307313  2.314256  2.321199     HUF  100.0"
      ]
     },
     "execution_count": 69,
     "metadata": {},
     "output_type": "execute_result"
    }
   ],
   "source": [
    "hnb.drop(0, axis=1, inplace=True)\n",
    "hnb.head()"
   ]
  },
  {
   "cell_type": "code",
   "execution_count": 70,
   "metadata": {},
   "outputs": [
    {
     "data": {
      "text/html": [
       "<div>\n",
       "<style>\n",
       "    .dataframe thead tr:only-child th {\n",
       "        text-align: right;\n",
       "    }\n",
       "\n",
       "    .dataframe thead th {\n",
       "        text-align: left;\n",
       "    }\n",
       "\n",
       "    .dataframe tbody tr th {\n",
       "        vertical-align: top;\n",
       "    }\n",
       "</style>\n",
       "<table border=\"1\" class=\"dataframe\">\n",
       "  <thead>\n",
       "    <tr style=\"text-align: right;\">\n",
       "      <th></th>\n",
       "      <th>Broj tečajnice</th>\n",
       "      <th>Datum primjene</th>\n",
       "      <th>Država</th>\n",
       "      <th>Jedinica</th>\n",
       "      <th>Kupovni za devize</th>\n",
       "      <th>Prodajni za devize</th>\n",
       "      <th>Srednji za devize</th>\n",
       "      <th>Valuta</th>\n",
       "      <th>Šifra valute</th>\n",
       "    </tr>\n",
       "  </thead>\n",
       "  <tbody>\n",
       "    <tr>\n",
       "      <th>0</th>\n",
       "      <td>64</td>\n",
       "      <td>30.03.2019</td>\n",
       "      <td>Australija</td>\n",
       "      <td>1</td>\n",
       "      <td>4,671705</td>\n",
       "      <td>4,699819</td>\n",
       "      <td>4,685762</td>\n",
       "      <td>AUD</td>\n",
       "      <td>36</td>\n",
       "    </tr>\n",
       "    <tr>\n",
       "      <th>1</th>\n",
       "      <td>64</td>\n",
       "      <td>30.03.2019</td>\n",
       "      <td>Kanada</td>\n",
       "      <td>1</td>\n",
       "      <td>4,910310</td>\n",
       "      <td>4,939860</td>\n",
       "      <td>4,925085</td>\n",
       "      <td>CAD</td>\n",
       "      <td>124</td>\n",
       "    </tr>\n",
       "    <tr>\n",
       "      <th>2</th>\n",
       "      <td>64</td>\n",
       "      <td>30.03.2019</td>\n",
       "      <td>Češka</td>\n",
       "      <td>1</td>\n",
       "      <td>0,286674</td>\n",
       "      <td>0,288400</td>\n",
       "      <td>0,287537</td>\n",
       "      <td>CZK</td>\n",
       "      <td>203</td>\n",
       "    </tr>\n",
       "    <tr>\n",
       "      <th>3</th>\n",
       "      <td>64</td>\n",
       "      <td>30.03.2019</td>\n",
       "      <td>Danska</td>\n",
       "      <td>1</td>\n",
       "      <td>0,991599</td>\n",
       "      <td>0,997567</td>\n",
       "      <td>0,994583</td>\n",
       "      <td>DKK</td>\n",
       "      <td>208</td>\n",
       "    </tr>\n",
       "    <tr>\n",
       "      <th>4</th>\n",
       "      <td>64</td>\n",
       "      <td>30.03.2019</td>\n",
       "      <td>Mađarska</td>\n",
       "      <td>100</td>\n",
       "      <td>2,307313</td>\n",
       "      <td>2,321199</td>\n",
       "      <td>2,314256</td>\n",
       "      <td>HUF</td>\n",
       "      <td>348</td>\n",
       "    </tr>\n",
       "    <tr>\n",
       "      <th>5</th>\n",
       "      <td>64</td>\n",
       "      <td>30.03.2019</td>\n",
       "      <td>Japan</td>\n",
       "      <td>100</td>\n",
       "      <td>5,950311</td>\n",
       "      <td>5,986121</td>\n",
       "      <td>5,968216</td>\n",
       "      <td>JPY</td>\n",
       "      <td>392</td>\n",
       "    </tr>\n",
       "    <tr>\n",
       "      <th>6</th>\n",
       "      <td>64</td>\n",
       "      <td>30.03.2019</td>\n",
       "      <td>Norveška</td>\n",
       "      <td>1</td>\n",
       "      <td>0,764522</td>\n",
       "      <td>0,769122</td>\n",
       "      <td>0,766822</td>\n",
       "      <td>NOK</td>\n",
       "      <td>578</td>\n",
       "    </tr>\n",
       "    <tr>\n",
       "      <th>7</th>\n",
       "      <td>64</td>\n",
       "      <td>30.03.2019</td>\n",
       "      <td>Švedska</td>\n",
       "      <td>1</td>\n",
       "      <td>0,711820</td>\n",
       "      <td>0,716104</td>\n",
       "      <td>0,713962</td>\n",
       "      <td>SEK</td>\n",
       "      <td>752</td>\n",
       "    </tr>\n",
       "    <tr>\n",
       "      <th>8</th>\n",
       "      <td>64</td>\n",
       "      <td>30.03.2019</td>\n",
       "      <td>Švicarska</td>\n",
       "      <td>1</td>\n",
       "      <td>6,620860</td>\n",
       "      <td>6,660704</td>\n",
       "      <td>6,640782</td>\n",
       "      <td>CHF</td>\n",
       "      <td>756</td>\n",
       "    </tr>\n",
       "    <tr>\n",
       "      <th>9</th>\n",
       "      <td>64</td>\n",
       "      <td>30.03.2019</td>\n",
       "      <td>Velika Britanija</td>\n",
       "      <td>1</td>\n",
       "      <td>8,654176</td>\n",
       "      <td>8,706258</td>\n",
       "      <td>8,680217</td>\n",
       "      <td>GBP</td>\n",
       "      <td>826</td>\n",
       "    </tr>\n",
       "    <tr>\n",
       "      <th>10</th>\n",
       "      <td>64</td>\n",
       "      <td>30.03.2019</td>\n",
       "      <td>SAD</td>\n",
       "      <td>1</td>\n",
       "      <td>6,590210</td>\n",
       "      <td>6,629870</td>\n",
       "      <td>6,610040</td>\n",
       "      <td>USD</td>\n",
       "      <td>840</td>\n",
       "    </tr>\n",
       "    <tr>\n",
       "      <th>11</th>\n",
       "      <td>64</td>\n",
       "      <td>30.03.2019</td>\n",
       "      <td>Bosna i Hercegovina</td>\n",
       "      <td>1</td>\n",
       "      <td>3,784983</td>\n",
       "      <td>3,807761</td>\n",
       "      <td>3,796372</td>\n",
       "      <td>BAM</td>\n",
       "      <td>977</td>\n",
       "    </tr>\n",
       "    <tr>\n",
       "      <th>12</th>\n",
       "      <td>64</td>\n",
       "      <td>30.03.2019</td>\n",
       "      <td>EMU</td>\n",
       "      <td>1</td>\n",
       "      <td>7,402783</td>\n",
       "      <td>7,447333</td>\n",
       "      <td>7,425058</td>\n",
       "      <td>EUR</td>\n",
       "      <td>978</td>\n",
       "    </tr>\n",
       "    <tr>\n",
       "      <th>13</th>\n",
       "      <td>64</td>\n",
       "      <td>30.03.2019</td>\n",
       "      <td>Poljska</td>\n",
       "      <td>1</td>\n",
       "      <td>1,721097</td>\n",
       "      <td>1,731455</td>\n",
       "      <td>1,726276</td>\n",
       "      <td>PLN</td>\n",
       "      <td>985</td>\n",
       "    </tr>\n",
       "  </tbody>\n",
       "</table>\n",
       "</div>"
      ],
      "text/plain": [
       "    Broj tečajnice Datum primjene               Država  Jedinica  \\\n",
       "0               64     30.03.2019           Australija         1   \n",
       "1               64     30.03.2019               Kanada         1   \n",
       "2               64     30.03.2019                Češka         1   \n",
       "3               64     30.03.2019               Danska         1   \n",
       "4               64     30.03.2019             Mađarska       100   \n",
       "5               64     30.03.2019                Japan       100   \n",
       "6               64     30.03.2019             Norveška         1   \n",
       "7               64     30.03.2019              Švedska         1   \n",
       "8               64     30.03.2019            Švicarska         1   \n",
       "9               64     30.03.2019     Velika Britanija         1   \n",
       "10              64     30.03.2019                  SAD         1   \n",
       "11              64     30.03.2019  Bosna i Hercegovina         1   \n",
       "12              64     30.03.2019                  EMU         1   \n",
       "13              64     30.03.2019              Poljska         1   \n",
       "\n",
       "   Kupovni za devize Prodajni za devize Srednji za devize Valuta  Šifra valute  \n",
       "0           4,671705           4,699819          4,685762    AUD            36  \n",
       "1           4,910310           4,939860          4,925085    CAD           124  \n",
       "2           0,286674           0,288400          0,287537    CZK           203  \n",
       "3           0,991599           0,997567          0,994583    DKK           208  \n",
       "4           2,307313           2,321199          2,314256    HUF           348  \n",
       "5           5,950311           5,986121          5,968216    JPY           392  \n",
       "6           0,764522           0,769122          0,766822    NOK           578  \n",
       "7           0,711820           0,716104          0,713962    SEK           752  \n",
       "8           6,620860           6,660704          6,640782    CHF           756  \n",
       "9           8,654176           8,706258          8,680217    GBP           826  \n",
       "10          6,590210           6,629870          6,610040    USD           840  \n",
       "11          3,784983           3,807761          3,796372    BAM           977  \n",
       "12          7,402783           7,447333          7,425058    EUR           978  \n",
       "13          1,721097           1,731455          1,726276    PLN           985  "
      ]
     },
     "execution_count": 70,
     "metadata": {},
     "output_type": "execute_result"
    }
   ],
   "source": [
    "pd.read_json('http://api.hnb.hr/tecajn/v1')"
   ]
  },
  {
   "cell_type": "code",
   "execution_count": null,
   "metadata": {
    "collapsed": true
   },
   "outputs": [],
   "source": []
  }
 ],
 "metadata": {
  "kernelspec": {
   "display_name": "Python 3",
   "language": "python",
   "name": "python3"
  },
  "language_info": {
   "codemirror_mode": {
    "name": "ipython",
    "version": 3
   },
   "file_extension": ".py",
   "mimetype": "text/x-python",
   "name": "python",
   "nbconvert_exporter": "python",
   "pygments_lexer": "ipython3",
   "version": "3.6.7"
  }
 },
 "nbformat": 4,
 "nbformat_minor": 2
}
